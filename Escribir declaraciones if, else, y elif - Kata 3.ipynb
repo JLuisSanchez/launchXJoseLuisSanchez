{
 "cells": [
  {
   "cell_type": "markdown",
   "metadata": {},
   "source": [
    "#Escribir declaraciones if, else, y elif"
   ]
  },
  {
   "cell_type": "markdown",
   "metadata": {},
   "source": [
    "if expresion_prueba:\n",
    "    #instrucciones a ejecutar\n",
    "\n",
    "if expresión_prueba:\n",
    "    #instrucciones a ejecutar\n",
    "else:\n",
    "    #instrucciones a ejecutar\n",
    "elif expresion_prueba:\n",
    "    #instrucciones a ejecutar\n",
    "else:\n",
    "    #instrucciones a ejecutar"
   ]
  },
  {
   "cell_type": "code",
   "execution_count": 18,
   "metadata": {},
   "outputs": [
    {
     "name": "stdout",
     "output_type": "stream",
     "text": [
      "el valor es menor que cero\n"
     ]
    }
   ],
   "source": [
    "#Prueba\n",
    "valor1 = 199\n",
    "valor2 = 100\n",
    "if (valor2 - valor1 > 0):\n",
    "    print(\"el valor es mayor que cero\")\n",
    "elif (valor2 - valor1 == 0):\n",
    "    print(\"el valor es igual a cero\")\n",
    "else:\n",
    "    print(\"el valor es menor que cero\")"
   ]
  },
  {
   "cell_type": "markdown",
   "metadata": {},
   "source": [
    "Un asteroide se acerca, y viaja a una velocidad de 49 km/s."
   ]
  },
  {
   "cell_type": "code",
   "execution_count": null,
   "metadata": {},
   "outputs": [],
   "source": [
    "velasteroide = 49\n",
    "if (velasteroide > 30):\n",
    "    print(\"¡Cuidado! el asteroide viene muy rapido\")\n",
    "else:\n",
    "    print(\"No hay que preocuparse de la velocidad del asteroide\")"
   ]
  },
  {
   "cell_type": "markdown",
   "metadata": {},
   "source": [
    "Si un asteroide entra en la atmósfera de la Tierra a una velocidad mayor o igual a 20 km/s, a veces produce un rayo de luz que se puede ver desde la Tierra. Escribe la lógica condicional que usa declaraciones if, else, y elif para alertar a las personas de todo el mundo que deben buscar un asteroide en el cielo. ¡Hay uno que se dirige a la tierra ahora a una velocidad de 19 km/s!"
   ]
  },
  {
   "cell_type": "code",
   "execution_count": 39,
   "metadata": {},
   "outputs": [
    {
     "name": "stdout",
     "output_type": "stream",
     "text": [
      "¡¡Busquen el asteroide que puede producir un rayo de luz!!\n"
     ]
    }
   ],
   "source": [
    "vasteroide = 30\n",
    "if (vasteroide >= 20):\n",
    "    print(\"¡¡Busquen el asteroide que puede producir un rayo de luz!!\")\n",
    "elif (vasteroide == 0):\n",
    "    print(\"Ni hay asteroides en el cielo\")\n",
    "else:\n",
    "    print(\"Mejor no busquen, no va a haber rayo\")"
   ]
  },
  {
   "cell_type": "markdown",
   "metadata": {},
   "source": [
    "Uso de operadores and y or"
   ]
  },
  {
   "cell_type": "markdown",
   "metadata": {},
   "source": [
    "En este ejercicio, aprenderás información más matizada sobre cuándo los asteroides representan un peligro para la Tierra, y utilizarás esa información para mejorar nuestro sistema de advertencia. Aquí está la nueva información que necesitas saber:\n",
    "\n",
    "*Los asteroides de menos de 25 metros en su dimensión más grande probablemente se quemarán a medida que entren en la atmósfera de la Tierra.\n",
    "\n",
    "Si una pieza de un asteroide que es más grande que 25 metros pero más pequeña que 1000 metros golpeara la Tierra, causaría mucho daño.\n",
    "También discutimos en el ejercicio anterior que:\n",
    "\n",
    "La velocidad del asteroide varía en función de lo cerca que esté del sol, y cualquier velocidad superior a 25 kilómetros por segundo (km/s) merece una advertencia.\n",
    "Si un asteroide entra en la atmósfera de la Tierra a una velocidad mayor o igual a 20 km/s, a veces produce un rayo de luz que se puede ver desde la Tierra.\n",
    "Usando toda esta información, escribe un programa que emita la advertencia o información correcta a la gente de la Tierra, según la velocidad y el tamaño de un asteroide. Utiliza instrucciones if, else, y elif, así como los operadores and y or."
   ]
  },
  {
   "cell_type": "code",
   "execution_count": 22,
   "metadata": {},
   "outputs": [
    {
     "name": "stdout",
     "output_type": "stream",
     "text": [
      "¡Ya valió!, nos va a caer el asteroide y causará mucho daño\n"
     ]
    }
   ],
   "source": [
    "vasteroide2 = 50\n",
    "tamasteroide = 100\n",
    "\n",
    "if (tamasteroide > 25 and tamasteroide < 1000 and vasteroide2 > 25):\n",
    "    print(\"¡Ya valió!, nos va a caer el asteroide y causará mucho daño.\")\n",
    "elif(vasteroide2 >= 20):\n",
    "    print(\"¡Voltea al cielo, tal vez haya un haz de luz con el asteroide! \" + \"tranquilo(a) no representa un peligro.\")\n",
    "elif (vasteroide2 >=1 and vasteroide2 < 25):\n",
    "    print(\"Hay asteroides en el cielo, no representan un peligro ni dejaran haz de luz.\")\n",
    "else:\n",
    "    print(\"No hay ningún asteroide en el cielo\")"
   ]
  }
 ],
 "metadata": {
  "interpreter": {
   "hash": "54f4cf6af044592288187f397fb324841d4c83addf22e4a134cd1393f3cb0b77"
  },
  "kernelspec": {
   "display_name": "Python 3.10.2 64-bit (windows store)",
   "language": "python",
   "name": "python3"
  },
  "language_info": {
   "codemirror_mode": {
    "name": "ipython",
    "version": 3
   },
   "file_extension": ".py",
   "mimetype": "text/x-python",
   "name": "python",
   "nbconvert_exporter": "python",
   "pygments_lexer": "ipython3",
   "version": "3.10.2"
  },
  "orig_nbformat": 4
 },
 "nbformat": 4,
 "nbformat_minor": 2
}
